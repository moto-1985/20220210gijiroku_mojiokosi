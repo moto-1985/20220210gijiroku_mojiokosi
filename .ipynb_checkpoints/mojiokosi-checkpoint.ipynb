{
 "cells": [
  {
   "cell_type": "code",
   "execution_count": 1,
   "id": "7fda54ec-e95a-40df-bfdf-3522e676d2d6",
   "metadata": {},
   "outputs": [
    {
     "name": "stdout",
     "output_type": "stream",
     "text": [
      "Collecting google-cloud-speech\n",
      "  Downloading google_cloud_speech-2.12.0-py2.py3-none-any.whl (126 kB)\n",
      "\u001b[K     |████████████████████████████████| 126 kB 6.6 MB/s eta 0:00:01\n",
      "\u001b[?25hCollecting google-api-core[grpc]<3.0.0dev,>=1.28.0\n",
      "  Downloading google_api_core-2.5.0-py2.py3-none-any.whl (111 kB)\n",
      "\u001b[K     |████████████████████████████████| 111 kB 10.1 MB/s eta 0:00:01\n",
      "\u001b[?25hCollecting libcst>=0.2.5\n",
      "  Downloading libcst-0.4.1-cp39-cp39-macosx_10_9_x86_64.whl (1.8 MB)\n",
      "\u001b[K     |████████████████████████████████| 1.8 MB 6.9 MB/s eta 0:00:01\n",
      "\u001b[?25hCollecting proto-plus>=1.4.0\n",
      "  Downloading proto_plus-1.20.0-py3-none-any.whl (45 kB)\n",
      "\u001b[K     |████████████████████████████████| 45 kB 12.8 MB/s eta 0:00:01\n",
      "\u001b[?25hRequirement already satisfied: google-auth<3.0dev,>=1.25.0 in /Users/araimotoki/opt/anaconda3/lib/python3.9/site-packages (from google-api-core[grpc]<3.0.0dev,>=1.28.0->google-cloud-speech) (2.3.3)\n",
      "Requirement already satisfied: requests<3.0.0dev,>=2.18.0 in /Users/araimotoki/opt/anaconda3/lib/python3.9/site-packages (from google-api-core[grpc]<3.0.0dev,>=1.28.0->google-cloud-speech) (2.26.0)\n",
      "Collecting protobuf>=3.12.0\n",
      "  Downloading protobuf-3.19.4-cp39-cp39-macosx_10_9_x86_64.whl (961 kB)\n",
      "\u001b[K     |████████████████████████████████| 961 kB 12.0 MB/s eta 0:00:01\n",
      "\u001b[?25hCollecting googleapis-common-protos<2.0dev,>=1.52.0\n",
      "  Downloading googleapis_common_protos-1.54.0-py2.py3-none-any.whl (207 kB)\n",
      "\u001b[K     |████████████████████████████████| 207 kB 9.3 MB/s eta 0:00:01\n",
      "\u001b[?25hCollecting grpcio-status<2.0dev,>=1.33.2\n",
      "  Downloading grpcio_status-1.43.0-py3-none-any.whl (10.0 kB)\n",
      "Collecting grpcio<2.0dev,>=1.33.2\n",
      "  Downloading grpcio-1.43.0-cp39-cp39-macosx_10_10_x86_64.whl (4.2 MB)\n",
      "\u001b[K     |████████████████████████████████| 4.2 MB 11.1 MB/s eta 0:00:01     |██████████████████████████████▍ | 4.0 MB 11.1 MB/s eta 0:00:01\n",
      "\u001b[?25hRequirement already satisfied: setuptools>=40.3.0 in /Users/araimotoki/opt/anaconda3/lib/python3.9/site-packages (from google-auth<3.0dev,>=1.25.0->google-api-core[grpc]<3.0.0dev,>=1.28.0->google-cloud-speech) (58.0.4)\n",
      "Requirement already satisfied: cachetools<5.0,>=2.0.0 in /Users/araimotoki/opt/anaconda3/lib/python3.9/site-packages (from google-auth<3.0dev,>=1.25.0->google-api-core[grpc]<3.0.0dev,>=1.28.0->google-cloud-speech) (4.2.4)\n",
      "Requirement already satisfied: rsa<5,>=3.1.4 in /Users/araimotoki/opt/anaconda3/lib/python3.9/site-packages (from google-auth<3.0dev,>=1.25.0->google-api-core[grpc]<3.0.0dev,>=1.28.0->google-cloud-speech) (4.8)\n",
      "Requirement already satisfied: pyasn1-modules>=0.2.1 in /Users/araimotoki/opt/anaconda3/lib/python3.9/site-packages (from google-auth<3.0dev,>=1.25.0->google-api-core[grpc]<3.0.0dev,>=1.28.0->google-cloud-speech) (0.2.8)\n",
      "Requirement already satisfied: six>=1.9.0 in /Users/araimotoki/opt/anaconda3/lib/python3.9/site-packages (from google-auth<3.0dev,>=1.25.0->google-api-core[grpc]<3.0.0dev,>=1.28.0->google-cloud-speech) (1.16.0)\n",
      "Collecting typing-inspect>=0.4.0\n",
      "  Downloading typing_inspect-0.7.1-py3-none-any.whl (8.4 kB)\n",
      "Requirement already satisfied: typing-extensions>=3.7.4.2 in /Users/araimotoki/opt/anaconda3/lib/python3.9/site-packages (from libcst>=0.2.5->google-cloud-speech) (3.10.0.2)\n",
      "Requirement already satisfied: pyyaml>=5.2 in /Users/araimotoki/opt/anaconda3/lib/python3.9/site-packages (from libcst>=0.2.5->google-cloud-speech) (6.0)\n",
      "Requirement already satisfied: pyasn1<0.5.0,>=0.4.6 in /Users/araimotoki/opt/anaconda3/lib/python3.9/site-packages (from pyasn1-modules>=0.2.1->google-auth<3.0dev,>=1.25.0->google-api-core[grpc]<3.0.0dev,>=1.28.0->google-cloud-speech) (0.4.8)\n",
      "Requirement already satisfied: charset-normalizer~=2.0.0 in /Users/araimotoki/opt/anaconda3/lib/python3.9/site-packages (from requests<3.0.0dev,>=2.18.0->google-api-core[grpc]<3.0.0dev,>=1.28.0->google-cloud-speech) (2.0.4)\n",
      "Requirement already satisfied: certifi>=2017.4.17 in /Users/araimotoki/opt/anaconda3/lib/python3.9/site-packages (from requests<3.0.0dev,>=2.18.0->google-api-core[grpc]<3.0.0dev,>=1.28.0->google-cloud-speech) (2021.10.8)\n",
      "Requirement already satisfied: idna<4,>=2.5 in /Users/araimotoki/opt/anaconda3/lib/python3.9/site-packages (from requests<3.0.0dev,>=2.18.0->google-api-core[grpc]<3.0.0dev,>=1.28.0->google-cloud-speech) (3.2)\n",
      "Requirement already satisfied: urllib3<1.27,>=1.21.1 in /Users/araimotoki/opt/anaconda3/lib/python3.9/site-packages (from requests<3.0.0dev,>=2.18.0->google-api-core[grpc]<3.0.0dev,>=1.28.0->google-cloud-speech) (1.26.7)\n",
      "Requirement already satisfied: mypy-extensions>=0.3.0 in /Users/araimotoki/opt/anaconda3/lib/python3.9/site-packages (from typing-inspect>=0.4.0->libcst>=0.2.5->google-cloud-speech) (0.4.3)\n",
      "Installing collected packages: protobuf, grpcio, googleapis-common-protos, typing-inspect, grpcio-status, google-api-core, proto-plus, libcst, google-cloud-speech\n",
      "Successfully installed google-api-core-2.5.0 google-cloud-speech-2.12.0 googleapis-common-protos-1.54.0 grpcio-1.43.0 grpcio-status-1.43.0 libcst-0.4.1 proto-plus-1.20.0 protobuf-3.19.4 typing-inspect-0.7.1\n"
     ]
    }
   ],
   "source": [
    "!pip install --upgrade google-cloud-speech"
   ]
  },
  {
   "cell_type": "code",
   "execution_count": 2,
   "id": "4ace2669-7d31-41e8-96ac-04c0ffa21141",
   "metadata": {},
   "outputs": [],
   "source": [
    "import os\n",
    "\n",
    "os.environ['GOOGLE_APPLICATION_CREDENTIALS'] = 'secret.json'"
   ]
  },
  {
   "cell_type": "code",
   "execution_count": null,
   "id": "4722c6d2-66ea-4f7f-9bc0-fde42863258e",
   "metadata": {},
   "outputs": [],
   "source": []
  }
 ],
 "metadata": {
  "kernelspec": {
   "display_name": "Python 3 (ipykernel)",
   "language": "python",
   "name": "python3"
  },
  "language_info": {
   "codemirror_mode": {
    "name": "ipython",
    "version": 3
   },
   "file_extension": ".py",
   "mimetype": "text/x-python",
   "name": "python",
   "nbconvert_exporter": "python",
   "pygments_lexer": "ipython3",
   "version": "3.9.7"
  }
 },
 "nbformat": 4,
 "nbformat_minor": 5
}
